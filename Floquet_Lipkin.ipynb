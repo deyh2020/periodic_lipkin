{
 "cells": [
  {
   "cell_type": "markdown",
   "id": "61052f8a-0563-4d4f-9c55-75ea2bd56914",
   "metadata": {},
   "source": [
    "# Floquet dynamics\n",
    "Consider the Hamiltonian of the type\n",
    "\\begin{equation}\n",
    "\\hat{H}(t) = \\hat{H}_0 + \\left(h \\cos{(\\omega t)} + h_0\\right)\\; \\hat{H}_1,\n",
    "\\end{equation}\n",
    "\n",
    "where\n",
    "\n",
    "\\begin{eqnarray}\n",
    "\\hat{H}_0 &=& \\sum_{ij}J_{ij}\\hat{\\sigma}^z_i\\hat{\\sigma}^z_j,\\\\\n",
    "\\hat{H}_1 &=& \\sum_i\\hat{\\sigma}^x_i.\n",
    "\\end{eqnarray}\n",
    "here,\n",
    "\\begin{eqnarray}\n",
    "J_{ij} =\\frac{J_\\alpha}{N^{1-\\alpha}}\\sum_{(i<j)}^{N}\\frac{1}{r_{ij}}=1\\\\\n",
    "\\end{eqnarray}\n",
    "Putting  $\\alpha = 0$ for all-to-all interaction we get,\n",
    "\\begin{eqnarray}\n",
    "J_{ij} =\\frac{J_0}{N}C^N_2=\\frac{J_0}{N}\\frac{N(N-1)}{2}=1\\\\\n",
    "J_0 = \\frac{2}{N-1}=KacN\n",
    "\\end{eqnarray}\n",
    "Here, we have $N$ spin-$1/2$ particles in a $1-$dimensional lattice, and $i,j$ are site indices. We will now attempt a numerical evaluation of\n",
    "the Floquet eigenspectrum of this system.\n",
    "\n",
    "First, define permutation operator $P_{ij} = \\displaystyle\\frac{1}{2}\\left(1+ \\vec{\\sigma}_i\\cdot\\vec{\\sigma}_j\\right)$,\n",
    "and note that $[P_{ij}, H]=0$. Thus, we can reduce the problem size from the full $2^N\\times 2^N$ Hilbert space\n",
    "to the subspace spanned by the degenerate eigenvectors of $P_{ij}$ corresponding to a single eigenvalue, say $1$.\n",
    "This is isomorphic to the subspace spanned by degenerate eigenstates of the operator $S^2=|\\vec{S}|^2$ with eigenvalue\n",
    "$\\displaystyle\\frac{N}{2}\\left(\\frac{N}{2}+1\\right)$, where\n",
    "\n",
    "\\begin{equation}\n",
    "\\vec{S}=S^x\\hat{x}+S^y\\hat{y}+S^z\\hat{z}\\equiv \\sum_i \\vec{\\sigma}_i.\n",
    "\\end{equation}\n",
    "\n",
    "Note that, since $[S^2, S^z]=0$, these are also eigenstates of $S^z$ in this so-called\n",
    "TSS subspace. The corresponding eigenvalues are $Ns_n$, where $s_n=-\\frac{1}{2}+\\frac{n}{N}$ and the index\n",
    "$n= 0 (1) N$ has $N+1$ values. Thus\n",
    "\n",
    "\\begin{equation}\n",
    "S^z |s_n\\rangle = Ns_n|s_n\\rangle,\n",
    "\\end{equation}\n",
    "\n",
    "and the matrix elements $(S^z)_{ij} = Ns_s\\delta_{ij}$. Furthermore, defining ladder operators\n",
    "\n",
    "\\begin{equation}\n",
    "S_\\pm \\equiv S^x \\pm i S^y,\n",
    "\\end{equation}\n",
    "\n",
    "and using the result\n",
    "\n",
    "\\begin{equation}\n",
    "S_\\pm |s_n\\rangle = \\sqrt{\\frac{N}{2}\\left(\\frac{N}{2}+1\\right) - Ns_n\\left(Ns_{n\\pm 1}\\right)}\\;\\;|s_{n\\pm 1}\\rangle,\n",
    "\\end{equation}\n",
    "\n",
    "we can obtain the matrix elements $S^x = S_+ + S_-$ to be\n",
    "\n",
    "\\begin{multline}\n",
    "(S^x)_{nm} = \\frac{1}{2}\\bigg[\\sqrt{\\frac{N}{2}\\left(\\frac{N}{2}+1\\right) - Ns_n\\left(Ns_{n + 1}\\right)}\\;\\;\\delta_{n+1, m}  \\\\\n",
    "                        +\\;\\sqrt{\\frac{N}{2}\\left(\\frac{N}{2}+1\\right) - Ns_n\\left(Ns_{n- 1}\\right)}\\;\\;\\delta_{n-1,m}\\bigg]\n",
    "\\end{multline}\n",
    "\n",
    "Note that, condidering $i<j$ the Hamiltonian can be readily written as\n",
    "$H(t) = -\\displaystyle\\frac{2}{N-1}(S^z)^2 - (h \\cos{(\\omega t )} + h_0)S^x$, the matrix elements of\n",
    "\\begin{eqnarray}\n",
    "\\left(H_0\\right)_{ij} &=& -\\frac{2}{N-1} s^2_i \\delta_{ij},\\nonumber\\\\\n",
    "\\left(H_1\\right)_{ij} &=& \\bigg[\\sqrt{\\frac{N}{2}\\left(\\frac{N}{2}+1\\right) - Ns_i\\left(Ns_{i + 1}\\right)}\\;\\;\\delta_{i+1, j}  \\\\\n",
    "    & &                     +\\;\\sqrt{\\frac{N}{2}\\left(\\frac{N}{2}+1\\right) - Ns_i\\left(Ns_{i- 1}\\right)}\\;\\;\\delta_{i-1,j}\\bigg]\n",
    "\\end{eqnarray}\n",
    "\n",
    "Note that, in the continuum limit, $N\\rightarrow\\infty$, we can ignore the difference between adjacent values\n",
    "of $s_i$. Thus, the Hamiltonian per particle becomes $h(t)\\equiv \\displaystyle\\frac{1}{N}H(t) = h + h_0\\cos{(\\omega t)}h_1$, where\n",
    "\n",
    "\\begin{eqnarray}\n",
    "\\left(h\\right)_{ij} &\\approx& - 2s^2_i \\delta_{ij},\\nonumber\\\\\n",
    "H_0 &\\rightarrow& -2s^2\\\\\n",
    "\\left(h_1\\right)_{ij} &\\approx& \\sqrt{1 - 4s^2_i}\\left[\\delta_{i+1, j}  + \\delta_{i-1,j}\\right]\\\\\n",
    "H_1 &\\rightarrow& \\sqrt{1 - 4s^2_i}\\;\\;\\cos{p},\n",
    "\\end{eqnarray}\n",
    "where we have expanded the matrix elements in a basis of $e^{ipx}$. In this limit, we obtain the Lipkin Model (Insert from previous notebook)\n",
    ".\n",
    "\n",
    "\n",
    "References:\n",
    "\n",
    "[1] Check T. Mori's paper equation (12)"
   ]
  },
  {
   "cell_type": "markdown",
   "id": "ccb3ccbe-e802-4bc8-bfdd-b0f6f80bb1ec",
   "metadata": {},
   "source": [
    "### Driven problem: Floquet States with dc part\n",
    "\n",
    "\n",
    "We now look at Floquet Quasienergies as a function of $\\eta = 4h/\\omega$, where the driven Hamiltonian is\n",
    "\\begin{equation}\n",
    "\\hat{H}(t) = \\hat{H}_0 + \\left(h \\cos{(\\omega t)} + h_0\\right)\\; \\hat{H}_1,\n",
    "\\end{equation}\n",
    "\n",
    "and h_0 is set to both inside and outside the zone where the undriven system has an inner mobility edge. Temtatively, what we're seeing is that the resonance approximation in the analytical text is consistent with the numerics whenever the undriven part shows an inner mobility edge due to a DC field, leading to Dynamical localization at the resonance points when $J_0(\\eta)=0$, with $\\eta = 4h/\\omega$. However, if the DC field becomes too large, level repulsion appears to occur, leading to a more-or-less delocalized profile.\n",
    "\n",
    "\n",
    "TODO: Compare Floquet IPR's for both inside and outside\n",
    "\n",
    "Note that this appears to contradict the results in the literature (CITE), where the absence of mobility edge ensures that localization occurs and remains persistent, and the presence of mobility edges results in mixing between localized and delocalized states, causing transitions that will result in a smooth distribution of IPR."
   ]
  },
  {
   "cell_type": "code",
   "execution_count": 13,
   "id": "395a2010-8e83-4291-b463-7189ccf76205",
   "metadata": {
    "tags": []
   },
   "outputs": [
    {
     "name": "stdout",
     "output_type": "stream",
     "text": [
      "running for N =  20 with 10 processors\n"
     ]
    },
    {
     "name": "stderr",
     "output_type": "stream",
     "text": [
      "100%|████████████████████████████████████████████████████████████████████████████████████████████████████████████████████████████████████| 200/200 [00:04<00:00, 40.30it/s]\n",
      "/tmp/ipykernel_698980/752051662.py:76: VisibleDeprecationWarning: Creating an ndarray from ragged nested sequences (which is a list-or-tuple of lists-or-tuples-or ndarrays with different lengths or shapes) is deprecated. If you meant to do this, you must specify 'dtype=object' when creating the ndarray.\n",
      "  data = np.array(p.starmap(floq_evolv,tqdm(params, position=0, leave=True)))\n",
      "100%|████████████████████████████████████████████████████████████████████████████████████████████████████████████████████████████████████| 200/200 [00:04<00:00, 42.54it/s]\n"
     ]
    },
    {
     "data": {
      "image/png": "[encoded data removed]",
      "text/plain": [
       "<Figure size 1296x648 with 2 Axes>"
      ]
     },
     "metadata": {
      "needs_background": "light"
     },
     "output_type": "display_data"
    },
    {
     "name": "stdout",
     "output_type": "stream",
     "text": [
      "time taken 0.3144707798957825 minute\n"
     ]
    }
   ],
   "source": [
    "import numpy as np\n",
    "from scipy.integrate import solve_ivp\n",
    "import matplotlib.pyplot as plt\n",
    "from multiprocessing import Pool\n",
    "from numpy.linalg import multi_dot, norm, eig\n",
    "from scipy.special import jn_zeros\n",
    "from scipy.special import j0\n",
    "from tqdm import tqdm\n",
    "import time as time\n",
    "\n",
    "plt.rcParams.update({\n",
    "    #\"figure.figsize\": (16, 12),\n",
    "    \"text.usetex\": True,\n",
    "    \"font.family\": \"sans-serif\",\n",
    "    \"font.size\": 30,\n",
    "    \"font.sans-serif\": [\"Computer Modern\"]})\n",
    "\n",
    "\n",
    "fig, axs = plt.subplots(len(h0s),1, sharex='col', figsize=(18,9))\n",
    "fig.suptitle(f'Quasienergies: N ={N}, h0={h0s}' ,fontsize = 25)\n",
    "\n",
    "def floq_jac(t, psi0, h, h0, H1, H0, w):  \n",
    "    n,m = H0.shape    \n",
    "    drive = h0 + h * np.cos(w * t)\n",
    "    jac = 1j * (H0  + drive * H1)             \n",
    "    return jac\n",
    "        \n",
    "def floq_func(t,psi0, h, h0, H1, H0, w):\n",
    "    floq_h = np.dot(floq_jac(t,psi0, h, h0, H1, H0, w), psi0)\n",
    "    return floq_h\n",
    "\n",
    "def floq_evolv(H0,H1,h,h0,w):\n",
    "    n,m = H0.shape\n",
    "    psi = np.eye(n) + (1j)* np.eye(n)\n",
    "    T = 2 * np.pi/w                                  \n",
    "    t = np.linspace(0,T,tsteps)                   \n",
    "    floqEvolution_mat = np.zeros((n,n)) + 1j * np.zeros((n,n))\n",
    "    for m in np.arange(n):\n",
    "        psi0 = psi[m]/(psi[m].T.conj() @ psi[m])\n",
    "        sol = solve_ivp(floq_func,(0,T),psi0,t_eval=[T], method='RK45',args=(h, h0, H1, H0, w), dense_output=True)\n",
    "        psi_T = sol.y[:,0]\n",
    "        floqEvolution_mat[m] = psi_T/(psi_T.T.conj() @ psi_T)\n",
    "    evals, evecs = eig(floqEvolution_mat)\n",
    "    #phasefunc = 1j * np.log(evals + 1j * 0) /(N * T)             #introduced N\n",
    "    phasefunc = 1j * np.log(evals + 1j * 0) /T             #without N    \n",
    "    return [h,phasefunc.real,evecs]\n",
    "\n",
    "\n",
    "if __name__ == '__main__':\n",
    "    start = time.time()\n",
    "    nprocs = 10\n",
    "    N = 20\n",
    "    h0s = [0.06, 0.3]\n",
    "    omega = 90\n",
    "    w = omega\n",
    "    tsteps = 1000\n",
    "\n",
    "    hsteps = 200\n",
    "    h1 = (1/4) * omega * 1.2\n",
    "    h2 = (1/4) * omega * 16.0 \n",
    "    hs = np.linspace(h1, h2, hsteps)\n",
    "\n",
    "    p = Pool(processes = nprocs)          \n",
    "    print(\"running for N = \", N, \"with\",nprocs,\"processors\")  \n",
    "   \n",
    "    s = N/2.0\n",
    "    ms = np.arange(-s,s+1)\n",
    "    H0 = np.diagflat(ms**2)                  \n",
    "    ms_p = ms[0:N]\n",
    "    ms_m = ms[1:]\n",
    "    H1 = (np.diagflat(np.sqrt(s * (s+1) - ms_p * (ms_p+1)), k=1) + np.diagflat(np.sqrt(s * (s+1) - ms_m * (ms_m-1)), k=-1))/N\n",
    "    \n",
    "    iprmats = []\n",
    "    for i, h0 in enumerate(h0s):\n",
    "        params = [(H0,H1,h,h0,w) for h in hs]\n",
    "        data = np.array(p.starmap(floq_evolv,tqdm(params, position=0, leave=True)))\n",
    "        h_f = np.array(data[:,0])\n",
    "        phs_f = np.array(data[:,1])\n",
    "        evec_f = np.array(data[:,2])\n",
    "        iprmat = np.zeros((len(hs),N+1))\n",
    "        for xx,h in enumerate(hs):\n",
    "            #Get the previous Floquet Eigensystem\n",
    "            if xx == 0:\n",
    "                evals_prev = phs_f[xx].real\n",
    "                evecs_prev = evec_f[xx]\n",
    "            else:\n",
    "                evals_prev = phs_f[xx-1].real\n",
    "                evecs_prev = evec_f[xx-1]\n",
    "\n",
    "            #Sort the Floquet states of this itertaion accordingly to orthonormality with the previous ones\n",
    "            evals_curr = phs_f[xx].real\n",
    "            evecs_curr = evec_f[xx]\n",
    "            condition = np.abs(np.around(evecs_prev.T.conj() @ evecs_curr, 0))\n",
    "            evals_curr = evals_curr[np.argmax(condition, axis=1)]        \n",
    "            evecs_curr = evecs_curr[:,np.argmax(condition, axis=1)]\n",
    "            axs[i].scatter(4 * h * np.ones(N+1)/w, evals_curr, color = 'blue', marker='.', s = 0.5)\n",
    "            iprmat[xx,:] = 1.0/(np.sum(np.abs(evecs_curr)**4, axis=1))\n",
    "        iprmats.append(iprmat)        \n",
    "\n",
    "    for pt in jn_zeros(0,4):\n",
    "        axs[0].axvline(x=pt, color='gray', linestyle=\"--\")\n",
    "        axs[1].axvline(x=pt, color='gray', linestyle=\"--\")\n",
    "    \n",
    "    axs[-1].set_xlabel(r'$\\frac{4h}{\\omega}$')\n",
    "    plt.show()\n",
    "    print('time taken',(time.time()-start)/60,'minute')"
   ]
  },
  {
   "cell_type": "code",
   "execution_count": null,
   "id": "c7d3b674-9b67-41f1-bbfe-c353b7ab1bbf",
   "metadata": {},
   "outputs": [],
   "source": [
    "import matplotlib.pyplot as plt\n",
    "import matplotlib.cm as cm\n",
    "start = time.time()\n",
    "plt.rcParams.update({\n",
    "    #\"figure.figsize\": (16, 12),\n",
    "    \"text.usetex\": True,\n",
    "    \"font.family\": \"sans-serif\",\n",
    "    \"font.size\": 30,\n",
    "    \"font.sans-serif\": [\"Computer Modern\"]})\n",
    "\n",
    "fig, axs = plt.subplots(len(h0s),1, sharex='col', figsize=(22,11))\n",
    "fig.suptitle(f'IPR: N ={N}, h0={h0s}' ,fontsize = 25)\n",
    "\n",
    "for i, ax in enumerate(axs):\n",
    "    p = ax.imshow(iprmats[i].T, interpolation='spline16', cmap='RdPu', aspect=0.25, origin='lower',extent = [4*hs[0]/w , 4*hs[-1]/w, 0 , N+1],vmin=0, vmax=15)\n",
    "    fig.colorbar(p, ax=ax)\n",
    "    ax.set_ylabel(r\"n\")\n",
    "    \n",
    "axs[-1].set_xlabel(r\"$4h/\\omega$\")\n",
    "for pt in jn_zeros(0,4):\n",
    "    axs[0].axvline(x=pt, color='gray', linestyle=\"--\")\n",
    "    axs[1].axvline(x=pt, color='gray', linestyle=\"--\")\n",
    "\n",
    "plt.show()"
   ]
  },
  {
   "cell_type": "markdown",
   "id": "bb130483-eb2f-4687-9988-edff669e9202",
   "metadata": {},
   "source": [
    "### Level Statistics of the Quasienergies\n",
    "\n",
    "First, let us look at the level statistics for both inside and outside the undriven inner mobility edge at the point where the drive amplitude yields the first root of $J_0(4h/\\omega)=0$, and the point where the drive amplitude yields the maximum of $J_0(4h/\\omega)$ *i.e* when $J_1(\\eta)=0$"
   ]
  },
  {
   "cell_type": "code",
   "execution_count": 76,
   "id": "9979d99c-4606-4124-929c-c16f5db3c64a",
   "metadata": {
    "execution": {
     "iopub.execute_input": "2022-03-10T14:50:25.571628Z",
     "iopub.status.busy": "2022-03-10T14:50:25.571368Z",
     "iopub.status.idle": "2022-03-10T14:51:25.464205Z",
     "shell.execute_reply": "2022-03-10T14:51:25.463696Z",
     "shell.execute_reply.started": "2022-03-10T14:50:25.571600Z"
    },
    "tags": []
   },
   "outputs": [
    {
     "name": "stdout",
     "output_type": "stream",
     "text": [
      "running for N =  100 with 2 processors\n"
     ]
    },
    {
     "name": "stderr",
     "output_type": "stream",
     "text": [
      "/tmp/ipykernel_1647373/3240738164.py:67: VisibleDeprecationWarning: Creating an ndarray from ragged nested sequences (which is a list-or-tuple of lists-or-tuples-or ndarrays with different lengths or shapes) is deprecated. If you meant to do this, you must specify 'dtype=object' when creating the ndarray.\n",
      "  data = np.array(p.starmap(floq_evolv,[(psi,H0,H1,h,h0,w) for h0 in h0s]))\n"
     ]
    },
    {
     "data": {
      "image/png": "[encoded data removed]",
      "text/plain": [
       "<Figure size 1584x792 with 2 Axes>"
      ]
     },
     "metadata": {
      "needs_background": "light"
     },
     "output_type": "display_data"
    },
    {
     "name": "stdout",
     "output_type": "stream",
     "text": [
      "time taken 0.9978013316790263 minute\n"
     ]
    }
   ],
   "source": [
    "import numpy as np\n",
    "from odeintw import odeintw\n",
    "import matplotlib.pyplot as plt\n",
    "from multiprocessing import Pool\n",
    "from numpy.linalg import multi_dot, norm, eig\n",
    "from scipy.special import jn_zeros\n",
    "from scipy.special import j0\n",
    "import math\n",
    "import time as time\n",
    "\n",
    "start = time.time()\n",
    "plt.rcParams.update({\n",
    "    \"figure.figsize\": (16, 12),\n",
    "    \"text.usetex\": True,\n",
    "    \"font.family\": \"sans-serif\",\n",
    "    \"font.size\": 30,\n",
    "    \"font.sans-serif\": [\"Computer Modern\"]})\n",
    "\n",
    "N = 100\n",
    "h0s = [0.06, 0.3]\n",
    "omega = 90\n",
    "w = omega\n",
    "tsteps = 1000\n",
    "\n",
    "eta1, = jn_zeros(0,1)\n",
    "_, eta2 = jn_zeros(1,2)\n",
    "\n",
    "hs = np.array([eta1, eta2]) * omega/4.0\n",
    "\n",
    "psi = np.eye(N+1) + 1j * np.zeros((N+1,N+1))\n",
    "\n",
    "def floq_jac(psi0, t, h, h0, H1, H0, w):  \n",
    "    drive = h0 + h * np.cos(w * t)\n",
    "    jac = 1j * (H0  + drive * H1) * N             \n",
    "    return jac\n",
    "        \n",
    "def floq_func(psi0, t, h, h0, H1, H0, w):\n",
    "    floq_h = np.dot(floq_jac(psi0, t, h, h0, H1, H0, w), psi0)\n",
    "    return floq_h\n",
    "\n",
    "def floq_evolv(psi,H0,H1,h,h0,w):\n",
    "    T = 2 * np.pi/w                                  \n",
    "    t = np.linspace(0,T,tsteps)                   \n",
    "    floqEvolution_mat = np.zeros((N+1,N+1)) + 1j * np.zeros((N+1,N+1))\n",
    "    for m in np.arange(N+1):\n",
    "        psi0 = psi[m]/(psi[m].T.conj() @ psi[m])\n",
    "        psi_t = odeintw(floq_func,psi0,t,args=(h, h0, H1, H0, w))\n",
    "        floqEvolution_mat[m] = psi_t[-1]/(psi_t[-1].T.conj() @ psi_t[-1]) \n",
    "    evals, evecs = eig(floqEvolution_mat)\n",
    "    phasefunc = 1j * np.log(evals + 1j * 0) /(N * T)             #introduced N\n",
    "    return [h,phasefunc.real,evecs]\n",
    "\n",
    "\n",
    "if __name__ == '__main__':\n",
    "    fig, axs = plt.subplots(1,len(hs), sharey='row', figsize=(22,11))\n",
    "    nprocs = len(h0s)\n",
    "    p = Pool(processes = nprocs)          \n",
    "    print(\"running for N = \", N, \"with\",nprocs,\"processors\")  \n",
    "    fig.suptitle(f'Level Statistics: N ={N}' ,fontsize = 25)\n",
    "    s = N/2.0\n",
    "    ms = np.arange(-s,s+1)\n",
    "    H0 = np.diagflat((ms/N) **2)                  \n",
    "    ms_p = ms[0:N]\n",
    "    ms_m = ms[1:]\n",
    "    H1 = (np.diagflat(np.sqrt(s * (s+1) - ms_p * (ms_p+1)), k=1) + np.diagflat(np.sqrt(s * (s+1) - ms_m * (ms_m-1)), k=-1))/N\n",
    "    for i,h in enumerate(hs):\n",
    "        data = np.array(p.starmap(floq_evolv,[(psi,H0,H1,h,h0,w) for h0 in h0s]))\n",
    "        phs_f = np.array(data[:,1]).real\n",
    "        axs[i].set_title(f'J0(4h/w) = {j0(4*h/w):1.3f}')\n",
    "        axs[i].hist(phs_f, int(N/2), density=True, histtype='barstacked', stacked=True, label=[\"h0=\" + str(h0) for h0 in h0s])\n",
    "        axs[i].legend()\n",
    "        axs[i].set_xlabel(\"Quasienergies\")\n",
    "    plt.show()\n",
    "    print('time taken',(time.time()-start)/60,'minute')"
   ]
  },
  {
   "cell_type": "code",
   "execution_count": 11,
   "id": "13e0635f-6065-4e42-8832-d126a09f21ae",
   "metadata": {},
   "outputs": [
    {
     "name": "stdout",
     "output_type": "stream",
     "text": [
      "[15]\n",
      "[[0.58202137]\n",
      " [0.09165412]]\n",
      "[0.58202137 0.09165412]\n"
     ]
    }
   ],
   "source": [
    "from scipy.integrate import solve_ivp\n",
    "def lotkavolterra(t, z, a, b, c, d):\n",
    "    x, y = z\n",
    "    return [a*x - b*x*y, -c*y + d*x*y]\n",
    "sol = solve_ivp(lotkavolterra, [0, 15], [10, 5], args=(1.5, 1, 3, 1),\n",
    "                dense_output=True, t_eval = [15])\n",
    "print(sol.t)\n",
    "print(sol.y)\n",
    "print(sol.y[:,0])"
   ]
  },
  {
   "cell_type": "code",
   "execution_count": null,
   "id": "7adc2216-9457-4185-941f-7f92c360952f",
   "metadata": {},
   "outputs": [],
   "source": []
  }
 ],
 "metadata": {
  "kernelspec": {
   "display_name": "Python 3 (ipykernel)",
   "language": "python",
   "name": "python3"
  },
  "language_info": {
   "codemirror_mode": {
    "name": "ipython",
    "version": 3
   },
   "file_extension": ".py",
   "mimetype": "text/x-python",
   "name": "python",
   "nbconvert_exporter": "python",
   "pygments_lexer": "ipython3",
   "version": "3.9.7"
  }
 },
 "nbformat": 4,
 "nbformat_minor": 5
}
