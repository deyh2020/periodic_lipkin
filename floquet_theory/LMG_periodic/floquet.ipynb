{
 "cells": [
  {
   "cell_type": "code",
   "execution_count": 14,
   "id": "af76b8f2",
   "metadata": {},
   "outputs": [
    {
     "name": "stdout",
     "output_type": "stream",
     "text": [
      "[-0.27525442 -2.72474474 -2.7247444  -0.2752548 ]\n",
      "CPU times: user 1.89 s, sys: 50.6 ms, total: 1.94 s\n",
      "Wall time: 7.53 s\n"
     ]
    }
   ],
   "source": [
    "%%time\n",
    "# Copyright 2021 Analabha Roy (daneel@utexas.edu):\n",
    "# Released under the MIT license @ https://opensource.org/licenses/MIT\n",
    "import numpy as np\n",
    "import matplotlib.pyplot as plt\n",
    "\n",
    "import qutip\n",
    "\n",
    "# Define paramters\n",
    "N = 4  # number of basis states to consider\n",
    "a = qutip.destroy(N)\n",
    "\n",
    "#Check these!!!\n",
    "q = (a.dag() + a)/np.sqrt(N)\n",
    "p = (1j) * (a.dag() - a)/np.sqrt(N)\n",
    "omega = 2 * np.pi * 10\n",
    "args = {'w': omega}\n",
    "H0 = -2.0 * q**2\n",
    "\n",
    "h = 1.0\n",
    "H1 = h * (1-4*q**2).sqrtm() * p.cosm()\n",
    "H = [H0, [H1, 'cos(w * t)']]\n",
    "f_modes_0, f_energies = qutip.floquet_modes(H, 2 * np.pi/omega, args)\n",
    "print(f_energies)"
   ]
  },
  {
   "cell_type": "code",
   "execution_count": null,
   "id": "0555d7b8",
   "metadata": {},
   "outputs": [],
   "source": []
  }
 ],
 "metadata": {
  "kernelspec": {
   "display_name": "Python 3 (Spyder)",
   "language": "python3",
   "name": "python3"
  },
  "language_info": {
   "codemirror_mode": {
    "name": "ipython",
    "version": 3
   },
   "file_extension": ".py",
   "mimetype": "text/x-python",
   "name": "python",
   "nbconvert_exporter": "python",
   "pygments_lexer": "ipython3",
   "version": "3.8.8"
  }
 },
 "nbformat": 4,
 "nbformat_minor": 5
}
